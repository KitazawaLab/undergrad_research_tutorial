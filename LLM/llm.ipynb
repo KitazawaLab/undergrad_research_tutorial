{
 "cells": [
  {
   "cell_type": "code",
   "execution_count": null,
   "id": "75b631e2-5ded-4880-aea6-6553b8fbb233",
   "metadata": {},
   "outputs": [],
   "source": [
    "import torch\n",
    "from transformers import AutoTokenizer, AutoModelForCausalLM\n",
    "\n",
    "tokenizer = AutoTokenizer.from_pretrained(\"matsuo-lab/weblab-10b\")"
   ]
  },
  {
   "cell_type": "code",
   "execution_count": 13,
   "id": "d03970c2-3993-4472-892c-5c87a3e6713a",
   "metadata": {},
   "outputs": [
    {
     "data": {
      "application/vnd.jupyter.widget-view+json": {
       "model_id": "6fa0812370264c38b3d2702a1479da43",
       "version_major": 2,
       "version_minor": 0
      },
      "text/plain": [
       "Loading checkpoint shards:   0%|          | 0/3 [00:00<?, ?it/s]"
      ]
     },
     "metadata": {},
     "output_type": "display_data"
    }
   ],
   "source": [
    "model = AutoModelForCausalLM.from_pretrained(\"matsuo-lab/weblab-10b\", torch_dtype=torch.float16, output_hidden_states = True)"
   ]
  },
  {
   "cell_type": "code",
   "execution_count": 14,
   "id": "ce76f01f-5760-4a5a-acf4-3e547542ee6c",
   "metadata": {},
   "outputs": [],
   "source": [
    "if torch.cuda.is_available():\n",
    "    model = model.to(\"cuda\")\n",
    "\n",
    "text = \"大阪大学はどういう大学ですか\"\n",
    "token_ids = tokenizer.encode(text, add_special_tokens=False, return_tensors=\"pt\")"
   ]
  },
  {
   "cell_type": "code",
   "execution_count": 15,
   "id": "63fc5c65-04b2-4adc-a25f-b12be912b4aa",
   "metadata": {},
   "outputs": [
    {
     "name": "stderr",
     "output_type": "stream",
     "text": [
      "C:\\Users\\KitazawaLabStudent\\miniconda3\\Lib\\site-packages\\transformers\\generation\\utils.py:1411: UserWarning: You have modified the pretrained model configuration to control generation. This is a deprecated strategy to control generation and will be removed soon, in a future version. Please use a generation configuration file (see https://huggingface.co/docs/transformers/main_classes/text_generation )\n",
      "  warnings.warn(\n",
      "The attention mask and the pad token id were not set. As a consequence, you may observe unexpected behavior. Please pass your input's `attention_mask` to obtain reliable results.\n",
      "Setting `pad_token_id` to `eos_token_id`:0 for open-end generation.\n"
     ]
    }
   ],
   "source": [
    "with torch.no_grad():\n",
    "    output_ids = model.generate(\n",
    "        token_ids.to(model.device),\n",
    "        max_new_tokens=100,\n",
    "        do_sample=True,\n",
    "        temperature=0.7,\n",
    "        top_p=0.95\n",
    "    )"
   ]
  },
  {
   "cell_type": "code",
   "execution_count": 16,
   "id": "a888b0e2-5c89-44f8-9f62-45ffcd375fb7",
   "metadata": {},
   "outputs": [
    {
     "name": "stdout",
     "output_type": "stream",
     "text": [
      "大阪大学はどういう大学ですか？\n",
      "1 大阪大学と神戸大学どちらがいいですか? 大阪大学と神戸大学ではどちらがいいですか? また、神戸大学には\n",
      "2 大阪大学の工学部と神戸大学の工学部ではどちらがいいですか?\n",
      "3 大阪大学の\n"
     ]
    }
   ],
   "source": [
    "output = tokenizer.decode(output_ids.tolist()[0])\n",
    "print(output)"
   ]
  },
  {
   "cell_type": "code",
   "execution_count": 18,
   "id": "0411b77c-a379-4b47-a8d8-e1743cb80e25",
   "metadata": {},
   "outputs": [],
   "source": [
    "output_encoded = model(token_ids.to(model.device))"
   ]
  },
  {
   "cell_type": "code",
   "execution_count": 19,
   "id": "99edc41e-a64c-4920-a741-05133a295001",
   "metadata": {},
   "outputs": [
    {
     "data": {
      "text/plain": [
       "odict_keys(['logits', 'past_key_values', 'hidden_states'])"
      ]
     },
     "execution_count": 19,
     "metadata": {},
     "output_type": "execute_result"
    }
   ],
   "source": [
    "output_encoded.keys()"
   ]
  },
  {
   "cell_type": "code",
   "execution_count": 20,
   "id": "05fbf36a-efc6-4c09-80b6-55dc3ee6a20a",
   "metadata": {},
   "outputs": [],
   "source": [
    "hidden_states = output_encoded.hidden_states"
   ]
  },
  {
   "cell_type": "code",
   "execution_count": 21,
   "id": "0d06d961-a9f1-4c2f-916b-7dfc8c56b5aa",
   "metadata": {
    "scrolled": true
   },
   "outputs": [
    {
     "data": {
      "text/plain": [
       "37"
      ]
     },
     "execution_count": 21,
     "metadata": {},
     "output_type": "execute_result"
    }
   ],
   "source": [
    "len(hidden_states)"
   ]
  },
  {
   "cell_type": "code",
   "execution_count": 22,
   "id": "12445115-4ff8-4628-82cb-d3c60cb4efbb",
   "metadata": {},
   "outputs": [
    {
     "data": {
      "text/plain": [
       "GPTNeoXConfig {\n",
       "  \"_name_or_path\": \"matsuo-lab/weblab-10b\",\n",
       "  \"architectures\": [\n",
       "    \"GPTNeoXForCausalLM\"\n",
       "  ],\n",
       "  \"attention_dropout\": 0.0,\n",
       "  \"bos_token_id\": 0,\n",
       "  \"classifier_dropout\": 0.1,\n",
       "  \"eos_token_id\": 0,\n",
       "  \"hidden_act\": \"gelu\",\n",
       "  \"hidden_dropout\": 0.0,\n",
       "  \"hidden_size\": 4864,\n",
       "  \"initializer_range\": 0.02,\n",
       "  \"intermediate_size\": 19456,\n",
       "  \"layer_norm_eps\": 1e-05,\n",
       "  \"max_position_embeddings\": 2048,\n",
       "  \"model_type\": \"gpt_neox\",\n",
       "  \"num_attention_heads\": 38,\n",
       "  \"num_hidden_layers\": 36,\n",
       "  \"output_hidden_states\": true,\n",
       "  \"rope_scaling\": null,\n",
       "  \"rotary_emb_base\": 10000,\n",
       "  \"rotary_pct\": 0.25,\n",
       "  \"tie_word_embeddings\": false,\n",
       "  \"torch_dtype\": \"float16\",\n",
       "  \"transformers_version\": \"4.32.1\",\n",
       "  \"use_cache\": true,\n",
       "  \"use_parallel_residual\": true,\n",
       "  \"vocab_size\": 50304\n",
       "}"
      ]
     },
     "execution_count": 22,
     "metadata": {},
     "output_type": "execute_result"
    }
   ],
   "source": [
    "model.config"
   ]
  },
  {
   "cell_type": "code",
   "execution_count": 23,
   "id": "915298d7-9d56-49ec-93ac-691c1a22d2a2",
   "metadata": {},
   "outputs": [
    {
     "data": {
      "text/plain": [
       "torch.Size([1, 15, 4864])"
      ]
     },
     "execution_count": 23,
     "metadata": {},
     "output_type": "execute_result"
    }
   ],
   "source": [
    "hidden_states[-1].shape"
   ]
  },
  {
   "cell_type": "code",
   "execution_count": 24,
   "id": "5046d728-a377-4290-9cb2-60279e5d1df8",
   "metadata": {},
   "outputs": [
    {
     "data": {
      "text/plain": [
       "torch.Size([1, 15])"
      ]
     },
     "execution_count": 24,
     "metadata": {},
     "output_type": "execute_result"
    }
   ],
   "source": [
    "token_ids.shape"
   ]
  },
  {
   "cell_type": "code",
   "execution_count": null,
   "id": "52ba96eb-fe46-4b50-aed4-c1fe7157bb6e",
   "metadata": {},
   "outputs": [],
   "source": []
  }
 ],
 "metadata": {
  "kernelspec": {
   "display_name": "Python 3 (ipykernel)",
   "language": "python",
   "name": "python3"
  },
  "language_info": {
   "codemirror_mode": {
    "name": "ipython",
    "version": 3
   },
   "file_extension": ".py",
   "mimetype": "text/x-python",
   "name": "python",
   "nbconvert_exporter": "python",
   "pygments_lexer": "ipython3",
   "version": "3.11.4"
  }
 },
 "nbformat": 4,
 "nbformat_minor": 5
}
