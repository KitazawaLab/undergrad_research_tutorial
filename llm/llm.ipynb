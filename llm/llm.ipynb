{
 "cells": [
  {
   "cell_type": "code",
   "execution_count": 7,
   "id": "6745a47c-8437-4247-bdbc-5a3feaf506ca",
   "metadata": {},
   "outputs": [],
   "source": [
    "import torch\n",
    "from transformers import AutoTokenizer, AutoModelForCausalLM\n",
    "\n",
    "tokenizer = AutoTokenizer.from_pretrained(\"matsuo-lab/weblab-10b\")"
   ]
  },
  {
   "cell_type": "code",
   "execution_count": 8,
   "id": "de37eba3-88eb-4a43-a959-46d0106a35b2",
   "metadata": {},
   "outputs": [
    {
     "data": {
      "application/vnd.jupyter.widget-view+json": {
       "model_id": "a8c1d76ed7c74c08bd90d47894ed75d6",
       "version_major": 2,
       "version_minor": 0
      },
      "text/plain": [
       "Loading checkpoint shards:   0%|          | 0/3 [00:00<?, ?it/s]"
      ]
     },
     "metadata": {},
     "output_type": "display_data"
    }
   ],
   "source": [
    "model = AutoModelForCausalLM.from_pretrained(\"matsuo-lab/weblab-10b\", torch_dtype=torch.float16,output_hidden_states=True)"
   ]
  },
  {
   "cell_type": "code",
   "execution_count": 9,
   "id": "0390c1b7-83df-426b-8db2-92bc1e0a6922",
   "metadata": {},
   "outputs": [],
   "source": [
    "if torch.cuda.is_available():\n",
    "    model = model.to(\"cuda\")"
   ]
  },
  {
   "cell_type": "code",
   "execution_count": 44,
   "id": "dc4ccaa7-b9f2-4316-a1e6-a2f4ba6feaa7",
   "metadata": {},
   "outputs": [
    {
     "name": "stderr",
     "output_type": "stream",
     "text": [
      "The attention mask and the pad token id were not set. As a consequence, you may observe unexpected behavior. Please pass your input's `attention_mask` to obtain reliable results.\n",
      "Setting `pad_token_id` to `eos_token_id`:0 for open-end generation.\n"
     ]
    },
    {
     "name": "stdout",
     "output_type": "stream",
     "text": [
      "ワンピース】ルフィ「こんなの…俺の知ってるルフィじゃねえ…」ルフィがゾロに嫉妬しちゃうｗｗｗｗｗ\n",
      "【ワンピース】ルフィ「こんなの…俺の知ってるルフィじゃねえ…」ルフィがゾロに嫉�\n"
     ]
    }
   ],
   "source": [
    "text = \"君の膵臓を食べたい\"\n",
    "token_ids = tokenizer.encode(text, add_special_tokens=False, return_tensors=\"pt\")\n",
    "\n",
    "with torch.no_grad():\n",
    "    output_ids = model.generate(\n",
    "        token_ids.to(model.device),\n",
    "        max_new_tokens=100,\n",
    "        do_sample=True,\n",
    "        temperature=0.7,\n",
    "        top_p=0.95\n",
    "    )\n",
    "\n",
    "output = tokenizer.decode(output_ids.tolist()[0])\n",
    "print(output)"
   ]
  },
  {
   "cell_type": "code",
   "execution_count": 47,
   "id": "9eba8437-15c9-4702-9d90-4cda6db5ea2f",
   "metadata": {},
   "outputs": [
    {
     "data": {
      "text/plain": [
       "torch.Size([1, 106])"
      ]
     },
     "execution_count": 47,
     "metadata": {},
     "output_type": "execute_result"
    }
   ],
   "source": [
    "output_ids.shape"
   ]
  },
  {
   "cell_type": "code",
   "execution_count": 45,
   "id": "389a2a66-a7de-4ef0-819a-ef450dd68c27",
   "metadata": {},
   "outputs": [
    {
     "data": {
      "text/plain": [
       "tensor([[ 1769,   109, 25558,   231,  6996, 11908,  2155,   228, 16509, 24119,\n",
       "         29733, 13748, 10446, 13639,  6686,  3917,  2866, 16818,   120,  3917,\n",
       "         34609, 21447,  5832, 16509, 24119, 29733, 31355, 47343, 40404, 19857,\n",
       "          2866, 13752, 16509, 24119, 29733,  6957,  1357,   124, 24404,  5444,\n",
       "           161,   106,   220, 21683,   107,  5891, 23826, 47343,  9935, 20422,\n",
       "           234, 20422,   234, 20422,   234, 20422,   234, 20422,   234,   187,\n",
       "          2155,   227,  1769,   109, 25558,   231,  6996, 11908,  2155,   228,\n",
       "         16509, 24119, 29733, 13748, 10446, 13639,  6686,  3917,  2866, 16818,\n",
       "           120,  3917, 34609, 21447,  5832, 16509, 24119, 29733, 31355, 47343,\n",
       "         40404, 19857,  2866, 13752, 16509, 24119, 29733,  6957,  1357,   124,\n",
       "         24404,  5444,   161,   106,   220, 21683]], device='cuda:0')"
      ]
     },
     "execution_count": 45,
     "metadata": {},
     "output_type": "execute_result"
    }
   ],
   "source": [
    "output_ids"
   ]
  },
  {
   "cell_type": "code",
   "execution_count": 49,
   "id": "7151ddc5-37c3-458f-bf88-932f16773e6c",
   "metadata": {},
   "outputs": [],
   "source": [
    "z = output_ids.detach()"
   ]
  },
  {
   "cell_type": "code",
   "execution_count": 50,
   "id": "57af3fcf-a6a6-4f8f-847f-d15668556020",
   "metadata": {},
   "outputs": [
    {
     "data": {
      "text/plain": [
       "tensor([[ 1769,   109, 25558,   231,  6996, 11908,  2155,   228, 16509, 24119,\n",
       "         29733, 13748, 10446, 13639,  6686,  3917,  2866, 16818,   120,  3917,\n",
       "         34609, 21447,  5832, 16509, 24119, 29733, 31355, 47343, 40404, 19857,\n",
       "          2866, 13752, 16509, 24119, 29733,  6957,  1357,   124, 24404,  5444,\n",
       "           161,   106,   220, 21683,   107,  5891, 23826, 47343,  9935, 20422,\n",
       "           234, 20422,   234, 20422,   234, 20422,   234, 20422,   234,   187,\n",
       "          2155,   227,  1769,   109, 25558,   231,  6996, 11908,  2155,   228,\n",
       "         16509, 24119, 29733, 13748, 10446, 13639,  6686,  3917,  2866, 16818,\n",
       "           120,  3917, 34609, 21447,  5832, 16509, 24119, 29733, 31355, 47343,\n",
       "         40404, 19857,  2866, 13752, 16509, 24119, 29733,  6957,  1357,   124,\n",
       "         24404,  5444,   161,   106,   220, 21683]], device='cuda:0')"
      ]
     },
     "execution_count": 50,
     "metadata": {},
     "output_type": "execute_result"
    }
   ],
   "source": [
    "z"
   ]
  },
  {
   "cell_type": "code",
   "execution_count": 29,
   "id": "b879a910-7846-4050-afad-2d5b7b647145",
   "metadata": {},
   "outputs": [],
   "source": [
    "output_encoded = model(token_ids.to(model.device))"
   ]
  },
  {
   "cell_type": "code",
   "execution_count": 30,
   "id": "a69f74d2-2528-4284-8a00-2e1ce7ac4dfb",
   "metadata": {},
   "outputs": [
    {
     "data": {
      "text/plain": [
       "odict_keys(['logits', 'past_key_values', 'hidden_states'])"
      ]
     },
     "execution_count": 30,
     "metadata": {},
     "output_type": "execute_result"
    }
   ],
   "source": [
    "output_encoded.keys()"
   ]
  },
  {
   "cell_type": "code",
   "execution_count": 31,
   "id": "e0c529c7-e72e-474a-8b09-18cfefc0280d",
   "metadata": {},
   "outputs": [],
   "source": [
    "hidden_states = output_encoded.hidden_states"
   ]
  },
  {
   "cell_type": "code",
   "execution_count": 32,
   "id": "2bf39f6a-81f4-4f30-8691-ce0f71eee61e",
   "metadata": {},
   "outputs": [
    {
     "data": {
      "text/plain": [
       "37"
      ]
     },
     "execution_count": 32,
     "metadata": {},
     "output_type": "execute_result"
    }
   ],
   "source": [
    "len(hidden_states)"
   ]
  },
  {
   "cell_type": "code",
   "execution_count": 33,
   "id": "7f924844-1b6a-4ac0-829e-4ecfd4f7eac2",
   "metadata": {},
   "outputs": [
    {
     "data": {
      "text/plain": [
       "GPTNeoXConfig {\n",
       "  \"_name_or_path\": \"matsuo-lab/weblab-10b\",\n",
       "  \"architectures\": [\n",
       "    \"GPTNeoXForCausalLM\"\n",
       "  ],\n",
       "  \"attention_dropout\": 0.0,\n",
       "  \"bos_token_id\": 0,\n",
       "  \"classifier_dropout\": 0.1,\n",
       "  \"eos_token_id\": 0,\n",
       "  \"hidden_act\": \"gelu\",\n",
       "  \"hidden_dropout\": 0.0,\n",
       "  \"hidden_size\": 4864,\n",
       "  \"initializer_range\": 0.02,\n",
       "  \"intermediate_size\": 19456,\n",
       "  \"layer_norm_eps\": 1e-05,\n",
       "  \"max_position_embeddings\": 2048,\n",
       "  \"model_type\": \"gpt_neox\",\n",
       "  \"num_attention_heads\": 38,\n",
       "  \"num_hidden_layers\": 36,\n",
       "  \"output_hidden_states\": true,\n",
       "  \"rope_scaling\": null,\n",
       "  \"rotary_emb_base\": 10000,\n",
       "  \"rotary_pct\": 0.25,\n",
       "  \"tie_word_embeddings\": false,\n",
       "  \"torch_dtype\": \"float16\",\n",
       "  \"transformers_version\": \"4.32.1\",\n",
       "  \"use_cache\": true,\n",
       "  \"use_parallel_residual\": true,\n",
       "  \"vocab_size\": 50304\n",
       "}"
      ]
     },
     "execution_count": 33,
     "metadata": {},
     "output_type": "execute_result"
    }
   ],
   "source": [
    "model.config"
   ]
  },
  {
   "cell_type": "code",
   "execution_count": 36,
   "id": "32b6514c-2010-4402-9ac1-d227a3ca2b04",
   "metadata": {},
   "outputs": [
    {
     "data": {
      "text/plain": [
       "torch.Size([1, 6, 4864])"
      ]
     },
     "execution_count": 36,
     "metadata": {},
     "output_type": "execute_result"
    }
   ],
   "source": [
    "hidden_states[-1].shape"
   ]
  },
  {
   "cell_type": "code",
   "execution_count": 41,
   "id": "f3921d34-4b92-42dc-b4b2-7197c2294c5d",
   "metadata": {},
   "outputs": [
    {
     "data": {
      "text/plain": [
       "torch.Size([1, 14])"
      ]
     },
     "execution_count": 41,
     "metadata": {},
     "output_type": "execute_result"
    }
   ],
   "source": [
    "token_ids.shape"
   ]
  }
 ],
 "metadata": {
  "kernelspec": {
   "display_name": "Python 3 (ipykernel)",
   "language": "python",
   "name": "python3"
  },
  "language_info": {
   "codemirror_mode": {
    "name": "ipython",
    "version": 3
   },
   "file_extension": ".py",
   "mimetype": "text/x-python",
   "name": "python",
   "nbconvert_exporter": "python",
   "pygments_lexer": "ipython3",
   "version": "3.11.4"
  }
 },
 "nbformat": 4,
 "nbformat_minor": 5
}
